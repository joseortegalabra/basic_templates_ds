{
 "cells": [
  {
   "cell_type": "markdown",
   "id": "c634ab15-13c6-478a-82b0-106f6d736008",
   "metadata": {},
   "source": [
    "# NOTEBOOK TEMPLATE\n",
    "Notebook template with principal codes"
   ]
  },
  {
   "cell_type": "code",
   "execution_count": null,
   "id": "0724d97f-71ed-4da0-bae6-0585c252bf09",
   "metadata": {},
   "outputs": [],
   "source": []
  },
  {
   "cell_type": "markdown",
   "id": "454df382-7773-4bac-bbba-a9b37a159e8d",
   "metadata": {},
   "source": [
    "### 1. import packages"
   ]
  },
  {
   "cell_type": "code",
   "execution_count": 1,
   "id": "db7ad485-31a1-4077-bc1a-a58f8f638edc",
   "metadata": {},
   "outputs": [],
   "source": [
    "import pandas as pd\n",
    "import numpy as np\n",
    "import matplotlib.pyplot as plt\n",
    "import seaborn as sns"
   ]
  },
  {
   "cell_type": "code",
   "execution_count": null,
   "id": "78d12c9e-a982-454f-8081-c47917e51c18",
   "metadata": {},
   "outputs": [],
   "source": []
  },
  {
   "cell_type": "markdown",
   "id": "0c0f3b4e-c5a2-48e8-aba0-2cd7b184505c",
   "metadata": {},
   "source": [
    "### 2. Root\n",
    "Select the root of the repo\n",
    "The path of the repo change according windows or mac or linux (docker image) are used"
   ]
  },
  {
   "cell_type": "code",
   "execution_count": 2,
   "id": "373ba2c2-1a09-4f2f-966a-267202a9988c",
   "metadata": {},
   "outputs": [
    {
     "ename": "FileNotFoundError",
     "evalue": "[Errno 2] No such file or directory: ''",
     "output_type": "error",
     "traceback": [
      "\u001b[0;31m---------------------------------------------------------------------------\u001b[0m",
      "\u001b[0;31mFileNotFoundError\u001b[0m                         Traceback (most recent call last)",
      "Cell \u001b[0;32mIn[2], line 7\u001b[0m\n\u001b[1;32m      5\u001b[0m list_root_path \u001b[38;5;241m=\u001b[39m actual_path\u001b[38;5;241m.\u001b[39msplit(\u001b[38;5;124m'\u001b[39m\u001b[38;5;130;01m\\\\\u001b[39;00m\u001b[38;5;124m'\u001b[39m)[:\u001b[38;5;241m-\u001b[39m\u001b[38;5;241m1\u001b[39m] \u001b[38;5;66;03m# in windows the folders are divided with \\\\\u001b[39;00m\n\u001b[1;32m      6\u001b[0m root_path \u001b[38;5;241m=\u001b[39m \u001b[38;5;124m'\u001b[39m\u001b[38;5;130;01m\\\\\u001b[39;00m\u001b[38;5;124m'\u001b[39m\u001b[38;5;241m.\u001b[39mjoin(list_root_path)\n\u001b[0;32m----> 7\u001b[0m \u001b[43mos\u001b[49m\u001b[38;5;241;43m.\u001b[39;49m\u001b[43mchdir\u001b[49m\u001b[43m(\u001b[49m\u001b[43mroot_path\u001b[49m\u001b[43m)\u001b[49m\n\u001b[1;32m      8\u001b[0m \u001b[38;5;28mprint\u001b[39m(\u001b[38;5;124m'\u001b[39m\u001b[38;5;124mroot path: \u001b[39m\u001b[38;5;124m'\u001b[39m, root_path)\n",
      "\u001b[0;31mFileNotFoundError\u001b[0m: [Errno 2] No such file or directory: ''"
     ]
    }
   ],
   "source": [
    "##### WINDOWS CODE\n",
    "import os\n",
    "# fix root path to save outputs\n",
    "actual_path = os.path.abspath(os.getcwd())\n",
    "list_root_path = actual_path.split('\\\\')[:-1] # in windows the folders are divided with \\\\\n",
    "root_path = '\\\\'.join(list_root_path)\n",
    "os.chdir(root_path)\n",
    "print('root path: ', root_path)"
   ]
  },
  {
   "cell_type": "code",
   "execution_count": 2,
   "id": "d852ace6-8819-4c8b-ad55-26bc10c1a3f0",
   "metadata": {},
   "outputs": [
    {
     "name": "stdout",
     "output_type": "stream",
     "text": [
      "root path:  /Users/joseortega/Documents/GitHub/basic_templates_ds\n"
     ]
    }
   ],
   "source": [
    "##### MAC CODE\n",
    "import os\n",
    "# fix root path to save outputs\n",
    "actual_path = os.path.abspath(os.getcwd())\n",
    "list_root_path = actual_path.split('/')[:-1] # in mac the folders are divided with /\n",
    "root_path = '/'.join(list_root_path)\n",
    "os.chdir(root_path)\n",
    "print('root path: ', root_path)"
   ]
  },
  {
   "cell_type": "code",
   "execution_count": null,
   "id": "2115cf24-771d-438d-8508-3ec825ff559c",
   "metadata": {},
   "outputs": [],
   "source": []
  },
  {
   "cell_type": "markdown",
   "id": "d9537225-afe8-47d5-91c6-b16613e1057e",
   "metadata": {},
   "source": [
    "### 3. Read env file\n",
    "The env file contains critical information that cant be showed"
   ]
  },
  {
   "cell_type": "code",
   "execution_count": 3,
   "id": "46ec09fb-7fee-4a3a-ae33-076da0411300",
   "metadata": {},
   "outputs": [],
   "source": [
    "import os\n",
    "from dotenv import load_dotenv, find_dotenv # package used in jupyter notebook to read the variables in file .env\n",
    "\n",
    "\"\"\" get env variable from .env \"\"\"\n",
    "load_dotenv(find_dotenv())\n",
    "\n",
    "\"\"\" Read env variables and save it as python variable \"\"\"\n",
    "ENV_VAR1 = os.environ.get(\"ENV_VAR1\", \"\")\n",
    "python_var2 = os.environ.get(\"ENV_VAR2\", \"\") \n",
    "var3 = os.environ.get(\"ENV_VAR3\", \"\") # it is necesary call the env variable with its name but it is saved in a python var with any name"
   ]
  },
  {
   "cell_type": "code",
   "execution_count": 4,
   "id": "3e25e87f-4690-4f18-868b-9a17185d59f1",
   "metadata": {},
   "outputs": [
    {
     "name": "stdout",
     "output_type": "stream",
     "text": [
      "hello_world\n"
     ]
    }
   ],
   "source": [
    "print(ENV_VAR1)"
   ]
  },
  {
   "cell_type": "code",
   "execution_count": 5,
   "id": "daf1ded6-56f2-44ae-a307-bacb5d1f84c0",
   "metadata": {},
   "outputs": [
    {
     "name": "stdout",
     "output_type": "stream",
     "text": [
      "this is a env variable\n"
     ]
    }
   ],
   "source": [
    "print(python_var2)"
   ]
  },
  {
   "cell_type": "code",
   "execution_count": 6,
   "id": "60364fb1-b8a3-4598-a080-1b5521979401",
   "metadata": {},
   "outputs": [
    {
     "name": "stdout",
     "output_type": "stream",
     "text": [
      "this file is not pushed in the repo\n"
     ]
    }
   ],
   "source": [
    "print(var3)"
   ]
  },
  {
   "cell_type": "code",
   "execution_count": null,
   "id": "78ac662d-91ef-4a3a-8faf-36274f879f3f",
   "metadata": {},
   "outputs": [],
   "source": []
  },
  {
   "cell_type": "markdown",
   "id": "bde8644d-f85c-4891-acbd-9066d42facc9",
   "metadata": {},
   "source": [
    "### 4. More template code"
   ]
  },
  {
   "cell_type": "code",
   "execution_count": 7,
   "id": "a3a8d5f7-374d-47a3-92e3-cdf5673ccf42",
   "metadata": {},
   "outputs": [],
   "source": [
    "# todo: add more template codes"
   ]
  },
  {
   "cell_type": "code",
   "execution_count": null,
   "id": "d54f60aa-5cba-45f3-b527-b64b1242e0d5",
   "metadata": {},
   "outputs": [],
   "source": []
  },
  {
   "cell_type": "code",
   "execution_count": null,
   "id": "b0f397ad-fcdd-4fbe-8728-c2c92b7c7fa2",
   "metadata": {},
   "outputs": [],
   "source": []
  },
  {
   "cell_type": "code",
   "execution_count": null,
   "id": "6f120632-9e48-4ef7-a7b8-b493f3877f2a",
   "metadata": {},
   "outputs": [],
   "source": []
  }
 ],
 "metadata": {
  "kernelspec": {
   "display_name": "Python 3 (ipykernel)",
   "language": "python",
   "name": "python3"
  },
  "language_info": {
   "codemirror_mode": {
    "name": "ipython",
    "version": 3
   },
   "file_extension": ".py",
   "mimetype": "text/x-python",
   "name": "python",
   "nbconvert_exporter": "python",
   "pygments_lexer": "ipython3",
   "version": "3.10.14"
  }
 },
 "nbformat": 4,
 "nbformat_minor": 5
}
